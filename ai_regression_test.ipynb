{
  "nbformat": 4,
  "nbformat_minor": 0,
  "metadata": {
    "colab": {
      "private_outputs": true,
      "provenance": [],
      "authorship_tag": "ABX9TyMuBmqA6PEzptmaHmHHq+D5",
      "include_colab_link": true
    },
    "kernelspec": {
      "name": "python3",
      "display_name": "Python 3"
    },
    "language_info": {
      "name": "python"
    }
  },
  "cells": [
    {
      "cell_type": "markdown",
      "metadata": {
        "id": "view-in-github",
        "colab_type": "text"
      },
      "source": [
        "<a href=\"https://colab.research.google.com/github/23epstein/AI-Linear-Regression-Test/blob/main/ai_regression_test.ipynb\" target=\"_parent\"><img src=\"https://colab.research.google.com/assets/colab-badge.svg\" alt=\"Open In Colab\"/></a>"
      ]
    },
    {
      "cell_type": "code",
      "execution_count": null,
      "metadata": {
        "id": "7ec21LTnFAsJ"
      },
      "outputs": [],
      "source": [
        "import pandas as pd\n",
        "import numpy as np\n",
        "import matplotlib.pyplot as plt\n",
        "import seaborn as sns\n",
        "from sklearn.model_selection import train_test_split"
      ]
    },
    {
      "cell_type": "code",
      "source": [
        "df = pd.read_csv('house_price_data.csv')  # replace with the actual filename if different\n",
        "df.head()"
      ],
      "metadata": {
        "id": "wM_IFe9VFJzz"
      },
      "execution_count": null,
      "outputs": []
    },
    {
      "cell_type": "code",
      "source": [
        "df.info()\n",
        "df.isnull().sum()"
      ],
      "metadata": {
        "id": "O2_foLAPGFGe"
      },
      "execution_count": null,
      "outputs": []
    },
    {
      "cell_type": "code",
      "source": [
        "df = pd.get_dummies(df, drop_first=True)"
      ],
      "metadata": {
        "id": "19EfvQSXGO8v"
      },
      "execution_count": null,
      "outputs": []
    },
    {
      "cell_type": "code",
      "source": [
        "# Function to remove outliers using IQR\n",
        "def remove_outliers_iqr(df, column):\n",
        "    Q1 = df[column].quantile(0.25)\n",
        "    Q3 = df[column].quantile(0.75)\n",
        "    IQR = Q3 - Q1\n",
        "    lower_bound = Q1 - 1.5 * IQR\n",
        "    upper_bound = Q3 + 1.5 * IQR\n",
        "    return df[(df[column] >= lower_bound) & (df[column] <= upper_bound)]\n",
        "\n",
        "# Remove outliers from both columns\n",
        "df_clean = remove_outliers_iqr(df, 'SqFt Area')\n",
        "df_clean = remove_outliers_iqr(df_clean, 'Price (INR in Lakhs)')\n",
        "\n",
        "# Show shape and preview cleaned data\n",
        "print(\"Original dataset size:\", df.shape[0])\n",
        "print(\"Cleaned dataset size:\", df_clean.shape[0])\n",
        "df_clean.head()\n"
      ],
      "metadata": {
        "id": "EmeQTdHgGbrM"
      },
      "execution_count": null,
      "outputs": []
    },
    {
      "cell_type": "code",
      "source": [
        "from sklearn.model_selection import train_test_split\n",
        "\n",
        "# Define feature and target\n",
        "X = df_clean[['SqFt Area']]  # Feature (independent variable)\n",
        "y = df_clean['Price (INR in Lakhs)']  # Target (dependent variable)\n",
        "\n",
        "# Split the data (80% training, 20% testing)\n",
        "X_train, X_test, y_train, y_test = train_test_split(\n",
        "    X, y, test_size=0.2, random_state=42\n",
        ")\n",
        "\n",
        "# Display shapes of resulting datasets\n",
        "print(\"X_train shape:\", X_train.shape)\n",
        "print(\"X_test shape:\", X_test.shape)\n",
        "print(\"y_train shape:\", y_train.shape)\n",
        "print(\"y_test shape:\", y_test.shape)"
      ],
      "metadata": {
        "id": "og03U5wLHXre"
      },
      "execution_count": null,
      "outputs": []
    },
    {
      "cell_type": "code",
      "source": [
        "from sklearn.linear_model import LinearRegression\n",
        "\n",
        "# Initialize the Linear Regression model\n",
        "model = LinearRegression()\n",
        "\n",
        "# Train the model using the training data\n",
        "model.fit(X_train, y_train)\n",
        "\n",
        "# Generate predictions on the test set\n",
        "y_pred = model.predict(X_test)\n"
      ],
      "metadata": {
        "id": "UGoBODOEHqJn"
      },
      "execution_count": null,
      "outputs": []
    },
    {
      "cell_type": "code",
      "source": [
        "# Print model coefficients\n",
        "print(\"Slope (Coefficient):\", model.coef_[0])\n",
        "print(\"Intercept:\", model.intercept_)"
      ],
      "metadata": {
        "id": "WelDrQLiHvoT"
      },
      "execution_count": null,
      "outputs": []
    },
    {
      "cell_type": "code",
      "source": [
        "# Generate predictions\n",
        "y_pred = model.predict(X_test)\n",
        "\n",
        "# Show predicted vs actual values\n",
        "predicted_vs_actual = pd.DataFrame({\n",
        "    'SqFt Area': X_test['SqFt Area'],\n",
        "    'Actual Price': y_test,\n",
        "    'Predicted Price': y_pred\n",
        "})\n",
        "\n",
        "predicted_vs_actual.sort_values(by='SqFt Area').head(10)  # Display top 10 sorted rows"
      ],
      "metadata": {
        "id": "QLeopVgCICxC"
      },
      "execution_count": null,
      "outputs": []
    },
    {
      "cell_type": "code",
      "source": [
        "from sklearn.metrics import mean_squared_error\n",
        "\n",
        "# Calculate Mean Squared Error\n",
        "mse = mean_squared_error(y_test, y_pred)\n",
        "\n",
        "print(\"Mean Squared Error (MSE):\", round(mse, 2))\n"
      ],
      "metadata": {
        "id": "RK8WhUVlIYEK"
      },
      "execution_count": null,
      "outputs": []
    },
    {
      "cell_type": "code",
      "source": [
        "import numpy as np\n",
        "\n",
        "# Calculate RMSE\n",
        "rmse = np.sqrt(mse)\n",
        "print(\"Root Mean Squared Error (RMSE):\", round(rmse, 2))\n"
      ],
      "metadata": {
        "id": "SbIQK6NuInSi"
      },
      "execution_count": null,
      "outputs": []
    },
    {
      "cell_type": "code",
      "source": [
        "from sklearn.metrics import r2_score\n",
        "\n",
        "# Calculate R² score\n",
        "r2 = r2_score(y_test, y_pred)\n",
        "print(\"R² Score:\", round(r2, 3))\n"
      ],
      "metadata": {
        "id": "tOYgB2TFIvyG"
      },
      "execution_count": null,
      "outputs": []
    },
    {
      "cell_type": "code",
      "source": [
        "import matplotlib.pyplot as plt\n",
        "\n",
        "# Scatter plot of actual vs. predicted prices\n",
        "plt.figure(figsize=(8, 6))\n",
        "plt.scatter(y_test, y_pred, color='blue', edgecolor='k', alpha=0.7)\n",
        "plt.plot([y_test.min(), y_test.max()], [y_test.min(), y_test.max()], 'r--', lw=2)  # diagonal line\n",
        "plt.xlabel('Actual Price (INR in Lakhs)')\n",
        "plt.ylabel('Predicted Price (INR in Lakhs)')\n",
        "plt.title('Actual vs. Predicted House Prices')\n",
        "plt.grid(True)\n",
        "plt.show()"
      ],
      "metadata": {
        "id": "gAfOC4JcI0EX"
      },
      "execution_count": null,
      "outputs": []
    }
  ]
}